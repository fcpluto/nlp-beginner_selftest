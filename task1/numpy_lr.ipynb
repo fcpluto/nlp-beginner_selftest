{
 "cells": [
  {
   "cell_type": "code",
   "execution_count": 1,
   "metadata": {},
   "outputs": [],
   "source": [
    "import pandas as pd\n",
    "import numpy as np\n",
    "from sklearn.model_selection import train_test_split\n",
    "from sklearn.feature_extraction.text import CountVectorizer"
   ]
  },
  {
   "cell_type": "code",
   "execution_count": 2,
   "metadata": {},
   "outputs": [
    {
     "name": "stdout",
     "output_type": "stream",
     "text": [
      "Wall time: 201 ms\n"
     ]
    }
   ],
   "source": [
    "%%time\n",
    "# all_data = pd.read_csv('./data/task1_all_data.tsv', sep='\\t')\n",
    "all_data = pd.read_csv('./data/cnews.train.txt', sep='\\t')\n",
    "\n",
    "x, y = all_data['Phrase'], all_data['Sentiment']\n",
    "x_train1, x_val, y_train1, y_val = train_test_split(x, y, test_size=0.2)\n",
    "x_train, x_test, y_train, y_test = train_test_split(x_train1, y_train1, test_size=0.125)\n",
    "y_train = np.array(y_train)\n",
    "y_val = np.array(y_val)\n",
    "y_test = np.array(y_test)"
   ]
  },
  {
   "cell_type": "code",
   "execution_count": 3,
   "metadata": {},
   "outputs": [
    {
     "name": "stdout",
     "output_type": "stream",
     "text": [
      "Wall time: 2.46 s\n"
     ]
    }
   ],
   "source": [
    "%%time\n",
    "count_vector = CountVectorizer(max_features= 1000)\n",
    "count_vector.fit_transform(x_train)\n",
    "x_train = count_vector.transform(x_train).toarray()\n",
    "x_val= count_vector.transform(x_val).toarray()"
   ]
  },
  {
   "cell_type": "code",
   "execution_count": 4,
   "metadata": {},
   "outputs": [],
   "source": [
    "class LogisticRegressionClassifier:\n",
    "    def __init__(self, max_iter=200, lr=0.01):\n",
    "        self.max_iter = max_iter\n",
    "        self.lr = lr\n",
    "\n",
    "    def sigmoid(self, X):\n",
    "        return 1/(1+np.exp(-X)) \n",
    "    \n",
    "    def softmax(self, d):\n",
    "        return np.exp(d) / np.sum(np.exp(d))\n",
    "    \n",
    "    def data_matrix(self, X):\n",
    "        data_mat = []\n",
    "        for x in X:\n",
    "            data_mat.append([1, *x])\n",
    "        return data_mat\n",
    "    \n",
    "    def fit(self, X, y):\n",
    "        data_mat = self.data_matrix(X)\n",
    "        self.weights = np.zeros((len(data_mat[0]),5), dtype = np.float32) \n",
    "\n",
    "        for step_ in range(self.max_iter):\n",
    "            for i in range(len(data_mat)):\n",
    "                # pre = self.sigmoid(np.dot(data_mat[i], self.weights))\n",
    "                pre = self.softmax(np.dot(data_mat[i], self.weights))\n",
    "                obj = np.eye(5)[int(y[i])]\n",
    "                err = pre - obj\n",
    "                self.weights -= self.lr * np.transpose([data_mat[i]]) * err\n",
    "            if(step_%10==0):\n",
    "                print(\"*********************************************************\")\n",
    "                print(\"round {}\\n \\nerr {} \\nscore {}\".format(step_, err, self.score(x_val,y_val)))\n",
    "\n",
    "    def score(self, X, y):\n",
    "        X=self.data_matrix(X)\n",
    "        right = 0\n",
    "        for i in range(len(X)):\n",
    "            pre = np.dot(X[i], self.weights)\n",
    "            pre2 = np.argmax(pre)\n",
    "            if pre2 == y[i]:\n",
    "                right+=1\n",
    "        return right/len(X)"
   ]
  },
  {
   "cell_type": "code",
   "execution_count": null,
   "metadata": {},
   "outputs": [
    {
     "name": "stdout",
     "output_type": "stream",
     "text": [
      "*********************************************************\n",
      "round 0\n",
      " \n",
      "err [ 0.02667144  0.12532341 -0.29941077  0.12086561  0.02655031] \n",
      "score 0.5476419325900295\n",
      "*********************************************************\n",
      "round 10\n",
      " \n",
      "err [ 0.02827368  0.13476849 -0.26594263  0.09083187  0.01206859] \n",
      "score 0.5788158400615148\n",
      "*********************************************************\n",
      "round 20\n",
      " \n",
      "err [ 0.02899782  0.13596321 -0.26272778  0.08755776  0.01020899] \n",
      "score 0.5810906061771114\n"
     ]
    }
   ],
   "source": [
    "%%time\n",
    "lr = LogisticRegressionClassifier(max_iter=100)\n",
    "lr.fit(x_train, y_train)\n",
    "print(lr.score(x_val, y_val))"
   ]
  },
  {
   "cell_type": "code",
   "execution_count": null,
   "metadata": {},
   "outputs": [],
   "source": []
  }
 ],
 "metadata": {
  "kernelspec": {
   "display_name": "Python 3",
   "language": "python",
   "name": "python3"
  },
  "language_info": {
   "codemirror_mode": {
    "name": "ipython",
    "version": 3
   },
   "file_extension": ".py",
   "mimetype": "text/x-python",
   "name": "python",
   "nbconvert_exporter": "python",
   "pygments_lexer": "ipython3",
   "version": "3.8.5"
  }
 },
 "nbformat": 4,
 "nbformat_minor": 4
}